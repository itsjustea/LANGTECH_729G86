{
 "cells": [
  {
   "cell_type": "markdown",
   "id": "c2d57f0e",
   "metadata": {},
   "source": [
    "# Project Approach and Description\n",
    "\n",
    "In this project, we compare two machine learning algorithms: Naive Bayes (NB) and Logistic Regression (LR), for classifying news articles as \"Fake\" or \"Real\" ones using a fake/real news dataset.\n",
    "\n",
    "Dataset link: https://www.kaggle.com/datasets/clmentbisaillon/fake-and-real-news-dataset/data\n",
    "\n",
    "The goal is to assess the performance of both modls in terms of their accuracy and predictive capabilities.\n",
    "\n",
    "### 1. Naïve Bayes\n",
    "Naïve Bayes algorithm is a supervised machine learning algorithm that are based on Baye's Theorem to find probabilities and perform predictions. The reason why we decided to use this model was because Naïve Bayes Classifier was taught in the lectures, and we wanted to use something we were familiar with and compare it with something that is not taught in the course.\n",
    "\n",
    "We used the MultinominalNB variant of of Naïve Bayes for this project as it works well with word frequency representations, which is what we want for text classification. This model assumes each word is a token, where each token appears with some probability in each class. It uses word frequencies to determine the class probailities, and the class with the highest probability is assigned to the news article (Real or fake).\n",
    "\n",
    "\n",
    "### 2. Logistic Regression\n",
    "Logistic Regression is a statistical model that is mainly used for binary classification problems, which we felt was suitable for our project. Logistic regression is based on weights, where each word in the news article is assigned a weight, and the sum of all the weights (with some additional exponential computations) will determine if the news article is real or fake (depending on the threshold, but by default, the threshold is 0.5).\n",
    "\n",
    "The reason why we chose Logistic Regression as our second model is not just due to our curiosity of learning how the model works, but also because on average, Logistic Regression can capture word dependencies better due to handling sparse matrices (of words) well and that it performs better when there is a large amount of training data compared to Naïve Bayes (which we will see later in the model performance results).\n",
    "\n",
    "### Reference Links (Learning about the models and their implementation)\n",
    "- Scikit-learn (Naïve Bayes): https://scikit-learn.org/stable/modules/naive_bayes.html\n",
    "- Geeks4Geeks (Naïve Bayes): https://www.geeksforgeeks.org/naive-bayes-classifiers/\n",
    "- Scikit-learn (Logistic Regression): https://scikit-learn.org/stable/modules/generated/sklearn.linear_model.LogisticRegression.html\n",
    "- Geeks4Geeks (Logistic Regression): https://www.geeksforgeeks.org/understanding-logistic-regression/"
   ]
  },
  {
   "cell_type": "code",
   "execution_count": 1,
   "id": "939d80db",
   "metadata": {},
   "outputs": [
    {
     "name": "stdout",
     "output_type": "stream",
     "text": [
      "Requirement already satisfied: pandas in c:\\users\\bryan\\anaconda3\\lib\\site-packages (1.4.4)\n",
      "Requirement already satisfied: python-dateutil>=2.8.1 in c:\\users\\bryan\\anaconda3\\lib\\site-packages (from pandas) (2.8.2)\n",
      "Requirement already satisfied: pytz>=2020.1 in c:\\users\\bryan\\anaconda3\\lib\\site-packages (from pandas) (2022.1)\n",
      "Requirement already satisfied: numpy>=1.18.5 in c:\\users\\bryan\\anaconda3\\lib\\site-packages (from pandas) (1.24.4)\n",
      "Requirement already satisfied: six>=1.5 in c:\\users\\bryan\\anaconda3\\lib\\site-packages (from python-dateutil>=2.8.1->pandas) (1.16.0)\n",
      "Requirement already satisfied: numpy in c:\\users\\bryan\\anaconda3\\lib\\site-packages (1.24.4)\n",
      "Requirement already satisfied: scikit-learn in c:\\users\\bryan\\anaconda3\\lib\\site-packages (1.0.2)\n",
      "Requirement already satisfied: threadpoolctl>=2.0.0 in c:\\users\\bryan\\anaconda3\\lib\\site-packages (from scikit-learn) (2.2.0)\n",
      "Requirement already satisfied: scipy>=1.1.0 in c:\\users\\bryan\\anaconda3\\lib\\site-packages (from scikit-learn) (1.9.1)\n",
      "Requirement already satisfied: numpy>=1.14.6 in c:\\users\\bryan\\anaconda3\\lib\\site-packages (from scikit-learn) (1.24.4)\n",
      "Requirement already satisfied: joblib>=0.11 in c:\\users\\bryan\\anaconda3\\lib\\site-packages (from scikit-learn) (1.1.0)\n"
     ]
    }
   ],
   "source": [
    "# Installing required libraries - numpy, pandas and scikit-learn\n",
    "!pip install --user pandas\n",
    "!pip install --user numpy\n",
    "!pip install --user scikit-learn"
   ]
  },
  {
   "cell_type": "code",
   "execution_count": 2,
   "id": "556bc6eb",
   "metadata": {},
   "outputs": [],
   "source": [
    "import pandas as pd\n",
    "import numpy as np\n",
    "from sklearn import *\n",
    "\n",
    "from sklearn.model_selection import train_test_split\n",
    "from sklearn.feature_extraction.text import TfidfVectorizer\n",
    "from sklearn.naive_bayes import MultinomialNB\n",
    "from sklearn.linear_model import LogisticRegression\n",
    "from sklearn.metrics import accuracy_score, classification_report, precision_score, recall_score, f1_score\n",
    "\n",
    "import string"
   ]
  },
  {
   "cell_type": "markdown",
   "id": "9c41517a",
   "metadata": {},
   "source": [
    "## Data Preparation/Cleaning"
   ]
  },
  {
   "cell_type": "code",
   "execution_count": 3,
   "id": "afda5407",
   "metadata": {},
   "outputs": [
    {
     "data": {
      "text/html": [
       "<div>\n",
       "<style scoped>\n",
       "    .dataframe tbody tr th:only-of-type {\n",
       "        vertical-align: middle;\n",
       "    }\n",
       "\n",
       "    .dataframe tbody tr th {\n",
       "        vertical-align: top;\n",
       "    }\n",
       "\n",
       "    .dataframe thead th {\n",
       "        text-align: right;\n",
       "    }\n",
       "</style>\n",
       "<table border=\"1\" class=\"dataframe\">\n",
       "  <thead>\n",
       "    <tr style=\"text-align: right;\">\n",
       "      <th></th>\n",
       "      <th>title</th>\n",
       "      <th>text</th>\n",
       "      <th>subject</th>\n",
       "      <th>date</th>\n",
       "    </tr>\n",
       "  </thead>\n",
       "  <tbody>\n",
       "    <tr>\n",
       "      <th>0</th>\n",
       "      <td>Donald Trump Sends Out Embarrassing New Year’...</td>\n",
       "      <td>Donald Trump just couldn t wish all Americans ...</td>\n",
       "      <td>News</td>\n",
       "      <td>December 31, 2017</td>\n",
       "    </tr>\n",
       "    <tr>\n",
       "      <th>1</th>\n",
       "      <td>Drunk Bragging Trump Staffer Started Russian ...</td>\n",
       "      <td>House Intelligence Committee Chairman Devin Nu...</td>\n",
       "      <td>News</td>\n",
       "      <td>December 31, 2017</td>\n",
       "    </tr>\n",
       "    <tr>\n",
       "      <th>2</th>\n",
       "      <td>Sheriff David Clarke Becomes An Internet Joke...</td>\n",
       "      <td>On Friday, it was revealed that former Milwauk...</td>\n",
       "      <td>News</td>\n",
       "      <td>December 30, 2017</td>\n",
       "    </tr>\n",
       "    <tr>\n",
       "      <th>3</th>\n",
       "      <td>Trump Is So Obsessed He Even Has Obama’s Name...</td>\n",
       "      <td>On Christmas day, Donald Trump announced that ...</td>\n",
       "      <td>News</td>\n",
       "      <td>December 29, 2017</td>\n",
       "    </tr>\n",
       "    <tr>\n",
       "      <th>4</th>\n",
       "      <td>Pope Francis Just Called Out Donald Trump Dur...</td>\n",
       "      <td>Pope Francis used his annual Christmas Day mes...</td>\n",
       "      <td>News</td>\n",
       "      <td>December 25, 2017</td>\n",
       "    </tr>\n",
       "  </tbody>\n",
       "</table>\n",
       "</div>"
      ],
      "text/plain": [
       "                                               title  \\\n",
       "0   Donald Trump Sends Out Embarrassing New Year’...   \n",
       "1   Drunk Bragging Trump Staffer Started Russian ...   \n",
       "2   Sheriff David Clarke Becomes An Internet Joke...   \n",
       "3   Trump Is So Obsessed He Even Has Obama’s Name...   \n",
       "4   Pope Francis Just Called Out Donald Trump Dur...   \n",
       "\n",
       "                                                text subject  \\\n",
       "0  Donald Trump just couldn t wish all Americans ...    News   \n",
       "1  House Intelligence Committee Chairman Devin Nu...    News   \n",
       "2  On Friday, it was revealed that former Milwauk...    News   \n",
       "3  On Christmas day, Donald Trump announced that ...    News   \n",
       "4  Pope Francis used his annual Christmas Day mes...    News   \n",
       "\n",
       "                date  \n",
       "0  December 31, 2017  \n",
       "1  December 31, 2017  \n",
       "2  December 30, 2017  \n",
       "3  December 29, 2017  \n",
       "4  December 25, 2017  "
      ]
     },
     "execution_count": 3,
     "metadata": {},
     "output_type": "execute_result"
    }
   ],
   "source": [
    "# Loading in our datasets in the form of DataFrames via pandas\n",
    "fake_df = pd.read_csv(\"dataset/Fake.csv\") \n",
    "real_df = pd.read_csv(\"dataset/Real.csv\")\n",
    "\n",
    "fake_df.head()"
   ]
  },
  {
   "cell_type": "code",
   "execution_count": 4,
   "id": "4dd4d576",
   "metadata": {},
   "outputs": [
    {
     "data": {
      "text/html": [
       "<div>\n",
       "<style scoped>\n",
       "    .dataframe tbody tr th:only-of-type {\n",
       "        vertical-align: middle;\n",
       "    }\n",
       "\n",
       "    .dataframe tbody tr th {\n",
       "        vertical-align: top;\n",
       "    }\n",
       "\n",
       "    .dataframe thead th {\n",
       "        text-align: right;\n",
       "    }\n",
       "</style>\n",
       "<table border=\"1\" class=\"dataframe\">\n",
       "  <thead>\n",
       "    <tr style=\"text-align: right;\">\n",
       "      <th></th>\n",
       "      <th>title</th>\n",
       "      <th>text</th>\n",
       "      <th>subject</th>\n",
       "      <th>date</th>\n",
       "      <th>label</th>\n",
       "    </tr>\n",
       "  </thead>\n",
       "  <tbody>\n",
       "    <tr>\n",
       "      <th>0</th>\n",
       "      <td>Donald Trump Sends Out Embarrassing New Year’...</td>\n",
       "      <td>Donald Trump just couldn t wish all Americans ...</td>\n",
       "      <td>News</td>\n",
       "      <td>December 31, 2017</td>\n",
       "      <td>0</td>\n",
       "    </tr>\n",
       "    <tr>\n",
       "      <th>1</th>\n",
       "      <td>Drunk Bragging Trump Staffer Started Russian ...</td>\n",
       "      <td>House Intelligence Committee Chairman Devin Nu...</td>\n",
       "      <td>News</td>\n",
       "      <td>December 31, 2017</td>\n",
       "      <td>0</td>\n",
       "    </tr>\n",
       "    <tr>\n",
       "      <th>2</th>\n",
       "      <td>Sheriff David Clarke Becomes An Internet Joke...</td>\n",
       "      <td>On Friday, it was revealed that former Milwauk...</td>\n",
       "      <td>News</td>\n",
       "      <td>December 30, 2017</td>\n",
       "      <td>0</td>\n",
       "    </tr>\n",
       "    <tr>\n",
       "      <th>3</th>\n",
       "      <td>Trump Is So Obsessed He Even Has Obama’s Name...</td>\n",
       "      <td>On Christmas day, Donald Trump announced that ...</td>\n",
       "      <td>News</td>\n",
       "      <td>December 29, 2017</td>\n",
       "      <td>0</td>\n",
       "    </tr>\n",
       "    <tr>\n",
       "      <th>4</th>\n",
       "      <td>Pope Francis Just Called Out Donald Trump Dur...</td>\n",
       "      <td>Pope Francis used his annual Christmas Day mes...</td>\n",
       "      <td>News</td>\n",
       "      <td>December 25, 2017</td>\n",
       "      <td>0</td>\n",
       "    </tr>\n",
       "    <tr>\n",
       "      <th>...</th>\n",
       "      <td>...</td>\n",
       "      <td>...</td>\n",
       "      <td>...</td>\n",
       "      <td>...</td>\n",
       "      <td>...</td>\n",
       "    </tr>\n",
       "    <tr>\n",
       "      <th>21412</th>\n",
       "      <td>'Fully committed' NATO backs new U.S. approach...</td>\n",
       "      <td>BRUSSELS (Reuters) - NATO allies on Tuesday we...</td>\n",
       "      <td>worldnews</td>\n",
       "      <td>August 22, 2017</td>\n",
       "      <td>1</td>\n",
       "    </tr>\n",
       "    <tr>\n",
       "      <th>21413</th>\n",
       "      <td>LexisNexis withdrew two products from Chinese ...</td>\n",
       "      <td>LONDON (Reuters) - LexisNexis, a provider of l...</td>\n",
       "      <td>worldnews</td>\n",
       "      <td>August 22, 2017</td>\n",
       "      <td>1</td>\n",
       "    </tr>\n",
       "    <tr>\n",
       "      <th>21414</th>\n",
       "      <td>Minsk cultural hub becomes haven from authorities</td>\n",
       "      <td>MINSK (Reuters) - In the shadow of disused Sov...</td>\n",
       "      <td>worldnews</td>\n",
       "      <td>August 22, 2017</td>\n",
       "      <td>1</td>\n",
       "    </tr>\n",
       "    <tr>\n",
       "      <th>21415</th>\n",
       "      <td>Vatican upbeat on possibility of Pope Francis ...</td>\n",
       "      <td>MOSCOW (Reuters) - Vatican Secretary of State ...</td>\n",
       "      <td>worldnews</td>\n",
       "      <td>August 22, 2017</td>\n",
       "      <td>1</td>\n",
       "    </tr>\n",
       "    <tr>\n",
       "      <th>21416</th>\n",
       "      <td>Indonesia to buy $1.14 billion worth of Russia...</td>\n",
       "      <td>JAKARTA (Reuters) - Indonesia will buy 11 Sukh...</td>\n",
       "      <td>worldnews</td>\n",
       "      <td>August 22, 2017</td>\n",
       "      <td>1</td>\n",
       "    </tr>\n",
       "  </tbody>\n",
       "</table>\n",
       "<p>44898 rows × 5 columns</p>\n",
       "</div>"
      ],
      "text/plain": [
       "                                                   title  \\\n",
       "0       Donald Trump Sends Out Embarrassing New Year’...   \n",
       "1       Drunk Bragging Trump Staffer Started Russian ...   \n",
       "2       Sheriff David Clarke Becomes An Internet Joke...   \n",
       "3       Trump Is So Obsessed He Even Has Obama’s Name...   \n",
       "4       Pope Francis Just Called Out Donald Trump Dur...   \n",
       "...                                                  ...   \n",
       "21412  'Fully committed' NATO backs new U.S. approach...   \n",
       "21413  LexisNexis withdrew two products from Chinese ...   \n",
       "21414  Minsk cultural hub becomes haven from authorities   \n",
       "21415  Vatican upbeat on possibility of Pope Francis ...   \n",
       "21416  Indonesia to buy $1.14 billion worth of Russia...   \n",
       "\n",
       "                                                    text    subject  \\\n",
       "0      Donald Trump just couldn t wish all Americans ...       News   \n",
       "1      House Intelligence Committee Chairman Devin Nu...       News   \n",
       "2      On Friday, it was revealed that former Milwauk...       News   \n",
       "3      On Christmas day, Donald Trump announced that ...       News   \n",
       "4      Pope Francis used his annual Christmas Day mes...       News   \n",
       "...                                                  ...        ...   \n",
       "21412  BRUSSELS (Reuters) - NATO allies on Tuesday we...  worldnews   \n",
       "21413  LONDON (Reuters) - LexisNexis, a provider of l...  worldnews   \n",
       "21414  MINSK (Reuters) - In the shadow of disused Sov...  worldnews   \n",
       "21415  MOSCOW (Reuters) - Vatican Secretary of State ...  worldnews   \n",
       "21416  JAKARTA (Reuters) - Indonesia will buy 11 Sukh...  worldnews   \n",
       "\n",
       "                    date  label  \n",
       "0      December 31, 2017      0  \n",
       "1      December 31, 2017      0  \n",
       "2      December 30, 2017      0  \n",
       "3      December 29, 2017      0  \n",
       "4      December 25, 2017      0  \n",
       "...                  ...    ...  \n",
       "21412   August 22, 2017       1  \n",
       "21413   August 22, 2017       1  \n",
       "21414   August 22, 2017       1  \n",
       "21415   August 22, 2017       1  \n",
       "21416   August 22, 2017       1  \n",
       "\n",
       "[44898 rows x 5 columns]"
      ]
     },
     "execution_count": 4,
     "metadata": {},
     "output_type": "execute_result"
    }
   ],
   "source": [
    "# In order to train the model, we need to combine the 2 datasets, and label them as 0 (Fake) or 1 (Real) news.\n",
    "fake_df[\"label\"] = 0 # for Fake news\n",
    "real_df[\"label\"] = 1 # for Real news\n",
    "\n",
    "data = pd.concat([fake_df, real_df], axis=0)\n",
    "\n",
    "data"
   ]
  },
  {
   "cell_type": "code",
   "execution_count": 5,
   "id": "4aa0ecec",
   "metadata": {},
   "outputs": [
    {
     "data": {
      "text/html": [
       "<div>\n",
       "<style scoped>\n",
       "    .dataframe tbody tr th:only-of-type {\n",
       "        vertical-align: middle;\n",
       "    }\n",
       "\n",
       "    .dataframe tbody tr th {\n",
       "        vertical-align: top;\n",
       "    }\n",
       "\n",
       "    .dataframe thead th {\n",
       "        text-align: right;\n",
       "    }\n",
       "</style>\n",
       "<table border=\"1\" class=\"dataframe\">\n",
       "  <thead>\n",
       "    <tr style=\"text-align: right;\">\n",
       "      <th></th>\n",
       "      <th>text</th>\n",
       "      <th>label</th>\n",
       "    </tr>\n",
       "  </thead>\n",
       "  <tbody>\n",
       "    <tr>\n",
       "      <th>0</th>\n",
       "      <td>Donald Trump just couldn t wish all Americans ...</td>\n",
       "      <td>0</td>\n",
       "    </tr>\n",
       "    <tr>\n",
       "      <th>1</th>\n",
       "      <td>House Intelligence Committee Chairman Devin Nu...</td>\n",
       "      <td>0</td>\n",
       "    </tr>\n",
       "    <tr>\n",
       "      <th>2</th>\n",
       "      <td>On Friday, it was revealed that former Milwauk...</td>\n",
       "      <td>0</td>\n",
       "    </tr>\n",
       "    <tr>\n",
       "      <th>3</th>\n",
       "      <td>On Christmas day, Donald Trump announced that ...</td>\n",
       "      <td>0</td>\n",
       "    </tr>\n",
       "    <tr>\n",
       "      <th>4</th>\n",
       "      <td>Pope Francis used his annual Christmas Day mes...</td>\n",
       "      <td>0</td>\n",
       "    </tr>\n",
       "    <tr>\n",
       "      <th>...</th>\n",
       "      <td>...</td>\n",
       "      <td>...</td>\n",
       "    </tr>\n",
       "    <tr>\n",
       "      <th>21412</th>\n",
       "      <td>BRUSSELS (Reuters) - NATO allies on Tuesday we...</td>\n",
       "      <td>1</td>\n",
       "    </tr>\n",
       "    <tr>\n",
       "      <th>21413</th>\n",
       "      <td>LONDON (Reuters) - LexisNexis, a provider of l...</td>\n",
       "      <td>1</td>\n",
       "    </tr>\n",
       "    <tr>\n",
       "      <th>21414</th>\n",
       "      <td>MINSK (Reuters) - In the shadow of disused Sov...</td>\n",
       "      <td>1</td>\n",
       "    </tr>\n",
       "    <tr>\n",
       "      <th>21415</th>\n",
       "      <td>MOSCOW (Reuters) - Vatican Secretary of State ...</td>\n",
       "      <td>1</td>\n",
       "    </tr>\n",
       "    <tr>\n",
       "      <th>21416</th>\n",
       "      <td>JAKARTA (Reuters) - Indonesia will buy 11 Sukh...</td>\n",
       "      <td>1</td>\n",
       "    </tr>\n",
       "  </tbody>\n",
       "</table>\n",
       "<p>44898 rows × 2 columns</p>\n",
       "</div>"
      ],
      "text/plain": [
       "                                                    text  label\n",
       "0      Donald Trump just couldn t wish all Americans ...      0\n",
       "1      House Intelligence Committee Chairman Devin Nu...      0\n",
       "2      On Friday, it was revealed that former Milwauk...      0\n",
       "3      On Christmas day, Donald Trump announced that ...      0\n",
       "4      Pope Francis used his annual Christmas Day mes...      0\n",
       "...                                                  ...    ...\n",
       "21412  BRUSSELS (Reuters) - NATO allies on Tuesday we...      1\n",
       "21413  LONDON (Reuters) - LexisNexis, a provider of l...      1\n",
       "21414  MINSK (Reuters) - In the shadow of disused Sov...      1\n",
       "21415  MOSCOW (Reuters) - Vatican Secretary of State ...      1\n",
       "21416  JAKARTA (Reuters) - Indonesia will buy 11 Sukh...      1\n",
       "\n",
       "[44898 rows x 2 columns]"
      ]
     },
     "execution_count": 5,
     "metadata": {},
     "output_type": "execute_result"
    }
   ],
   "source": [
    "# TODO: Ask if we want to take the title into consideration, or just the contents of the news article\n",
    "# data[\"content\"] = data[\"title\"] + \" \" + data[\"text\"]  # Uncomment if yes\n",
    "# data[\"content\"] = data[\"title\"]\n",
    "\n",
    "data = data[[\"text\", \"label\"]] # We only need the text and label, so we drop everything else\n",
    "data"
   ]
  },
  {
   "cell_type": "code",
   "execution_count": 6,
   "id": "5832b881",
   "metadata": {},
   "outputs": [
    {
     "name": "stderr",
     "output_type": "stream",
     "text": [
      "C:\\Users\\bryan\\AppData\\Local\\Temp\\ipykernel_22692\\1802390873.py:4: SettingWithCopyWarning: \n",
      "A value is trying to be set on a copy of a slice from a DataFrame.\n",
      "Try using .loc[row_indexer,col_indexer] = value instead\n",
      "\n",
      "See the caveats in the documentation: https://pandas.pydata.org/pandas-docs/stable/user_guide/indexing.html#returning-a-view-versus-a-copy\n",
      "  data[\"text\"] = data[\"text\"].str.lower()\n",
      "C:\\Users\\bryan\\AppData\\Local\\Temp\\ipykernel_22692\\1802390873.py:7: SettingWithCopyWarning: \n",
      "A value is trying to be set on a copy of a slice from a DataFrame.\n",
      "Try using .loc[row_indexer,col_indexer] = value instead\n",
      "\n",
      "See the caveats in the documentation: https://pandas.pydata.org/pandas-docs/stable/user_guide/indexing.html#returning-a-view-versus-a-copy\n",
      "  data['text'] = data['text'].str.translate(str.maketrans('', '', string.punctuation))\n",
      "C:\\Users\\bryan\\AppData\\Local\\Temp\\ipykernel_22692\\1802390873.py:10: SettingWithCopyWarning: \n",
      "A value is trying to be set on a copy of a slice from a DataFrame.\n",
      "Try using .loc[row_indexer,col_indexer] = value instead\n",
      "\n",
      "See the caveats in the documentation: https://pandas.pydata.org/pandas-docs/stable/user_guide/indexing.html#returning-a-view-versus-a-copy\n",
      "  data['text'] = data['text'].str.strip()\n"
     ]
    },
    {
     "data": {
      "text/plain": [
       "0        donald trump just couldn t wish all americans ...\n",
       "1        house intelligence committee chairman devin nu...\n",
       "2        on friday it was revealed that former milwauke...\n",
       "3        on christmas day donald trump announced that h...\n",
       "4        pope francis used his annual christmas day mes...\n",
       "                               ...                        \n",
       "21412    brussels reuters  nato allies on tuesday welco...\n",
       "21413    london reuters  lexisnexis a provider of legal...\n",
       "21414    minsk reuters  in the shadow of disused soviet...\n",
       "21415    moscow reuters  vatican secretary of state car...\n",
       "21416    jakarta reuters  indonesia will buy 11 sukhoi ...\n",
       "Name: text, Length: 44898, dtype: object"
      ]
     },
     "execution_count": 6,
     "metadata": {},
     "output_type": "execute_result"
    }
   ],
   "source": [
    "# Now, let's clean the dataset. We only want to use the words in the text column, hence we will need to clean it:\n",
    "\n",
    "# 1. Making all worlds lower case\n",
    "data[\"text\"] = data[\"text\"].str.lower()\n",
    "\n",
    "# 2. Removing all punctuations\n",
    "data['text'] = data['text'].str.translate(str.maketrans('', '', string.punctuation))\n",
    "\n",
    "# 3. Removing any unnecessary spaces using .strip()\n",
    "data['text'] = data['text'].str.strip()\n",
    "\n",
    "data[\"text\"]"
   ]
  },
  {
   "cell_type": "code",
   "execution_count": 7,
   "id": "45553f9b",
   "metadata": {},
   "outputs": [],
   "source": [
    "# Splitting the cleaned dataset into test and training datasets\n",
    "\n",
    "# Explaination:\n",
    "# X: data[\"text\"], and Y: the labels (0: Fake, 1: Real)\n",
    "# X_train: Training set of the article text. We will feed this into our model so that the model can use the data to learn text patterns.\n",
    "# Y_train: Training set for target labels (0 or 1). The model will use this to learn which text corresponds to real or fake news.\n",
    "# X_test: Testing set for the article text. We will use this to test our model for the accuracy, precision, recall and F1-score!\n",
    "# Y_test: Testing set for the article text. We will use this to test our model to compare the model's predictions with the actual labels during the evaluation stage!\n",
    "\n",
    "X_train, X_test, y_train, y_test = train_test_split(data[\"text\"], data[\"label\"], test_size=0.2, random_state=30)\n",
    "\n",
    "# As suggested in Scikit-learn's documentation, we need to Vectorize the text data, as ML models only works with numerical data and not text data. \n",
    "# Vectorization transforms the text into a numerical format that that model can understand and work with.\n",
    "# This will make the data more structured for the models to process.\n",
    "vectorizer = TfidfVectorizer(stop_words=\"english\", max_features=5000) # I set to 5000 as a default, but it can be lesser. Lesser = less compuational time!\n",
    "X_train_vectorised = vectorizer.fit_transform(X_train)\n",
    "X_test_vectorised = vectorizer.transform(X_test)"
   ]
  },
  {
   "cell_type": "markdown",
   "id": "5055e4d4",
   "metadata": {},
   "source": [
    "## Naïve Bayes and Logistic Regression Models"
   ]
  },
  {
   "cell_type": "code",
   "execution_count": 8,
   "id": "de468446",
   "metadata": {},
   "outputs": [
    {
     "data": {
      "text/plain": [
       "MultinomialNB()"
      ]
     },
     "execution_count": 8,
     "metadata": {},
     "output_type": "execute_result"
    }
   ],
   "source": [
    "# Training the Naïve Bayes Model - via Scikit-learn\n",
    "nb_model = MultinomialNB()\n",
    "nb_model.fit(X_train_vectorised, y_train)"
   ]
  },
  {
   "cell_type": "code",
   "execution_count": 9,
   "id": "d7aad3be",
   "metadata": {},
   "outputs": [
    {
     "data": {
      "text/plain": [
       "LogisticRegression(max_iter=1000)"
      ]
     },
     "execution_count": 9,
     "metadata": {},
     "output_type": "execute_result"
    }
   ],
   "source": [
    "# Training the Logistic Regression model - via Scikit-learn\n",
    "lr_model = LogisticRegression(max_iter=1000)\n",
    "lr_model.fit(X_train_vectorised, y_train)"
   ]
  },
  {
   "cell_type": "code",
   "execution_count": 10,
   "id": "519feba7",
   "metadata": {},
   "outputs": [],
   "source": [
    "# Evaluating the models!\n",
    "nb_preds = nb_model.predict(X_test_vectorised)\n",
    "lr_preds = lr_model.predict(X_test_vectorised)"
   ]
  },
  {
   "cell_type": "code",
   "execution_count": 11,
   "id": "741276ec",
   "metadata": {},
   "outputs": [
    {
     "name": "stdout",
     "output_type": "stream",
     "text": [
      "Naïve Bayes Accuracy: 0.9237193763919822\n",
      "Logistic Regression Accuracy: 0.9858574610244989\n",
      "\n",
      "Naïve Bayes Precision: 0.923696682464455\n",
      "Logistic Regression Precision: 0.9804741980474198\n",
      "\n",
      "Naïve Bayes Recall: 0.9148087303449894\n",
      "Logistic Regression Recall: 0.9899084721896269\n",
      "\n",
      "Naïve Bayes F1 Score: 0.9192312227331684\n",
      "Logistic Regression F1 Score: 0.9851687492701157\n",
      "\n",
      "Naïve Bayes Report:\n",
      "               precision    recall  f1-score   support\n",
      "\n",
      "           0       0.92      0.93      0.93      4719\n",
      "           1       0.92      0.91      0.92      4261\n",
      "\n",
      "    accuracy                           0.92      8980\n",
      "   macro avg       0.92      0.92      0.92      8980\n",
      "weighted avg       0.92      0.92      0.92      8980\n",
      "\n",
      "Logistic Regression Report:\n",
      "               precision    recall  f1-score   support\n",
      "\n",
      "           0       0.99      0.98      0.99      4719\n",
      "           1       0.98      0.99      0.99      4261\n",
      "\n",
      "    accuracy                           0.99      8980\n",
      "   macro avg       0.99      0.99      0.99      8980\n",
      "weighted avg       0.99      0.99      0.99      8980\n",
      "\n"
     ]
    }
   ],
   "source": [
    "# Let's see the performance of our models\n",
    "\n",
    "print(\"Naïve Bayes Accuracy:\", accuracy_score(y_test, nb_preds))\n",
    "print(\"Logistic Regression Accuracy:\", accuracy_score(y_test, lr_preds))\n",
    "print(\"\")\n",
    "print(\"Naïve Bayes Precision:\", precision_score(y_test, nb_preds))\n",
    "print(\"Logistic Regression Precision:\", precision_score(y_test, lr_preds))\n",
    "print(\"\")\n",
    "print(\"Naïve Bayes Recall:\", recall_score(y_test, nb_preds))\n",
    "print(\"Logistic Regression Recall:\", recall_score(y_test, lr_preds))\n",
    "print(\"\")\n",
    "print(\"Naïve Bayes F1 Score:\", f1_score(y_test, nb_preds))\n",
    "print(\"Logistic Regression F1 Score:\", f1_score(y_test, lr_preds))\n",
    "print(\"\")\n",
    "print(\"Naïve Bayes Report:\\n\", classification_report(y_test, nb_preds))\n",
    "print(\"Logistic Regression Report:\\n\", classification_report(y_test, lr_preds))"
   ]
  },
  {
   "cell_type": "markdown",
   "id": "7618a3d0",
   "metadata": {},
   "source": [
    "### Remarks\n",
    "After seeing the chart above, we can conclude that Logistic regression is a better option for the text classification of real and fake news! "
   ]
  },
  {
   "cell_type": "markdown",
   "id": "b77d5841",
   "metadata": {},
   "source": [
    "## Making this prediction model/function usable!"
   ]
  },
  {
   "cell_type": "code",
   "execution_count": 12,
   "id": "34d5e6cf",
   "metadata": {},
   "outputs": [],
   "source": [
    "# Making a function to clean the dataset\n",
    "def clean_text(text):\n",
    "    # 1. Making all worlds lower case\n",
    "    text = text.lower()\n",
    "\n",
    "    # 2. Removing all punctuations\n",
    "    text = text.translate(str.maketrans('', '', string.punctuation))\n",
    "\n",
    "    # 3. Removing any unnecessary spaces using .strip()\n",
    "    text = text.strip()\n",
    "    \n",
    "    return text"
   ]
  },
  {
   "cell_type": "code",
   "execution_count": 13,
   "id": "75d2290b",
   "metadata": {},
   "outputs": [],
   "source": [
    "# Let's make the prediction function which takes in a text (article)\n",
    "def predict_news(article):\n",
    "    article_clean = clean_text(article)\n",
    "    article_vectorised = vectorizer.transform([article_clean])\n",
    "    nb_result = nb_model.predict(article_vectorised)[0]\n",
    "    lr_result = lr_model.predict(article_vectorised)[0]\n",
    "    \n",
    "    if nb_result == 1:\n",
    "        print(\"Naïve Bayes Prediction: Real\")\n",
    "    else:\n",
    "        print(\"Naïve Bayes Prediction: Fake\")\n",
    "        \n",
    "    if lr_result == 1:\n",
    "        print(\"Logistic Regression Prediction: Real\")\n",
    "    else:\n",
    "        print(\"Logistic Regression Prediction: Fake\")\n",
    "    \n",
    "    return"
   ]
  },
  {
   "cell_type": "code",
   "execution_count": 14,
   "id": "5e7c36ab",
   "metadata": {},
   "outputs": [
    {
     "name": "stdout",
     "output_type": "stream",
     "text": [
      "Naïve Bayes Prediction: Real\n",
      "Logistic Regression Prediction: Real\n"
     ]
    }
   ],
   "source": [
    "predict_news(\"WASHINGTON (Reuters) - The special counsel investigation of links between Russia and President Trumpâ€™s 2016 election campaign should continue without interference in 2018, despite calls from some Trump administration allies and Republican lawmakers to shut it down, a prominent Republican senator said on Sunday. Lindsey Graham, who serves on the Senate armed forces and judiciary committees, said Department of Justice Special Counsel Robert Mueller needs to carry on with his Russia investigation without political interference. â€œThis investigation will go forward. It will be an investigation conducted without political influence,â€ Graham said on CBSâ€™s Face the Nation news program. â€œAnd we all need to let Mr. Mueller do his job. I think heâ€™s the right guy at the right time.â€  The question of how Russia may have interfered in the election, and how Trumpâ€™s campaign may have had links with or co-ordinated any such effort, has loomed over the White House since Trump took office in January. It shows no sign of receding as Trump prepares for his second year in power, despite intensified rhetoric from some Trump allies in recent weeks accusing Muellerâ€™s team of bias against the Republican president. Trump himself seemed to undercut his supporters in an interview last week with the New York Times in which he said he expected Mueller was â€œgoing to be fair.â€    Russiaâ€™s role in the election and the question of possible links to the Trump campaign are the focus of multiple inquiries in Washington. Three committees of the Senate and the House of Representatives are investigating, as well as Mueller, whose team in May took over an earlier probe launched by the U.S. Federal Bureau of Investigation (FBI). Several members of the Trump campaign and administration have been convicted or indicted in the investigation.  Trump and his allies deny any collusion with Russia during the campaign, and the Kremlin has denied meddling in the election. Graham said he still wants an examination of the FBIâ€™s use of a dossier on links between Trump and Russia that was compiled by a former British spy, Christopher Steele, which prompted Trump allies and some Republicans to question Muellerâ€™s inquiry.   On Saturday, the New York Times reported that it was not that dossier that triggered an early FBI probe, but a tip from former Trump campaign foreign policy adviser George Papadopoulos to an Australian diplomat that Russia had damaging information about former Trump rival Hillary Clinton.  â€œI want somebody to look at the way the Department of Justice used this dossier. It bothers me greatly the way they used it, and I want somebody to look at it,â€ Graham said. But he said the Russia investigation must continue. â€œAs a matter of fact, it would hurt us if we ignored it,â€ he said. \")"
   ]
  },
  {
   "cell_type": "markdown",
   "id": "725bad20",
   "metadata": {},
   "source": [
    "Note: The news article above is sourced from the Real.csv dataset for testing purposes."
   ]
  },
  {
   "cell_type": "code",
   "execution_count": 15,
   "id": "75228532",
   "metadata": {},
   "outputs": [
    {
     "name": "stdout",
     "output_type": "stream",
     "text": [
      "Naïve Bayes Prediction: Real\n",
      "Logistic Regression Prediction: Fake\n"
     ]
    }
   ],
   "source": [
    "predict_news(\"The special counsel investigation\")"
   ]
  },
  {
   "cell_type": "markdown",
   "id": "f1011a3d",
   "metadata": {},
   "source": [
    "Note: The short text above is a random sentence I fed into the model for testing purposes."
   ]
  },
  {
   "cell_type": "markdown",
   "id": "b6e04554",
   "metadata": {},
   "source": [
    "### Learning Point\n",
    "As we have seen in the model performance chart above, we know that on average, the Logistic Regression model performs better than Naïve Bayes. Hence, in this situation where Naïve Bayes and Logistic Regression gives different prediction results, we will choose to believe the Logistic Regression model's one."
   ]
  },
  {
   "cell_type": "code",
   "execution_count": null,
   "id": "41164b23",
   "metadata": {},
   "outputs": [],
   "source": []
  },
  {
   "cell_type": "code",
   "execution_count": null,
   "id": "f758d5ee",
   "metadata": {},
   "outputs": [],
   "source": []
  },
  {
   "cell_type": "code",
   "execution_count": null,
   "id": "bc3cfdbc",
   "metadata": {},
   "outputs": [],
   "source": []
  },
  {
   "cell_type": "code",
   "execution_count": null,
   "id": "45e0c944",
   "metadata": {},
   "outputs": [],
   "source": []
  },
  {
   "cell_type": "code",
   "execution_count": null,
   "id": "11e34874",
   "metadata": {},
   "outputs": [],
   "source": []
  },
  {
   "cell_type": "code",
   "execution_count": null,
   "id": "97bfc295",
   "metadata": {},
   "outputs": [],
   "source": []
  },
  {
   "cell_type": "code",
   "execution_count": null,
   "id": "988d85e0",
   "metadata": {},
   "outputs": [],
   "source": []
  },
  {
   "cell_type": "code",
   "execution_count": null,
   "id": "069b7fda",
   "metadata": {},
   "outputs": [],
   "source": []
  },
  {
   "cell_type": "code",
   "execution_count": null,
   "id": "a5a23a6f",
   "metadata": {},
   "outputs": [],
   "source": []
  },
  {
   "cell_type": "code",
   "execution_count": null,
   "id": "226ac358",
   "metadata": {},
   "outputs": [],
   "source": []
  }
 ],
 "metadata": {
  "kernelspec": {
   "display_name": "Python 3 (ipykernel)",
   "language": "python",
   "name": "python3"
  },
  "language_info": {
   "codemirror_mode": {
    "name": "ipython",
    "version": 3
   },
   "file_extension": ".py",
   "mimetype": "text/x-python",
   "name": "python",
   "nbconvert_exporter": "python",
   "pygments_lexer": "ipython3",
   "version": "3.9.13"
  }
 },
 "nbformat": 4,
 "nbformat_minor": 5
}
